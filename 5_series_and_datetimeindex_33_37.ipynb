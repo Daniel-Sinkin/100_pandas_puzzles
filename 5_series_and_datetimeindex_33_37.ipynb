{
 "cells": [
  {
   "cell_type": "markdown",
   "metadata": {},
   "source": [
    "## Series and DatetimeIndex\n",
    "\n",
    "### Exercises for creating and manipulating Series with datetime data\n",
    "\n",
    "Difficulty: *easy/medium*\n",
    "\n",
    "pandas is fantastic for working with dates and times. These puzzles explore some of this functionality.\n"
   ]
  },
  {
   "cell_type": "markdown",
   "metadata": {},
   "source": [
    "**33.** Create a DatetimeIndex that contains each business day of 2015 and use it to index a Series of random numbers. Let's call this Series `s`."
   ]
  },
  {
   "cell_type": "code",
   "execution_count": 1,
   "metadata": {
    "collapsed": true
   },
   "outputs": [],
   "source": [
    "import pandas as pd\n",
    "import numpy as np\n",
    "\n",
    "_rng = np.random.default_rng(0x33)\n",
    "\n",
    "dt_idx = pd.date_range(\"2015-1-1\", \"2016-1-1\", inclusive=\"left\")\n",
    "s_data = _rng.normal(0, 1, size = len(dt_idx))\n",
    "\n",
    "s = pd.Series(s_data, index = dt_idx)"
   ]
  },
  {
   "cell_type": "markdown",
   "metadata": {},
   "source": [
    "**34.** Find the sum of the values in `s` for every Wednesday."
   ]
  },
  {
   "cell_type": "code",
   "execution_count": 2,
   "metadata": {
    "collapsed": true
   },
   "outputs": [
    {
     "data": {
      "text/plain": [
       "4.720941808492775"
      ]
     },
     "execution_count": 2,
     "metadata": {},
     "output_type": "execute_result"
    }
   ],
   "source": [
    "s[s.index.day_of_week == 2].sum()"
   ]
  },
  {
   "cell_type": "markdown",
   "metadata": {},
   "source": [
    "**35.** For each calendar month in `s`, find the mean of values."
   ]
  },
  {
   "cell_type": "code",
   "execution_count": 3,
   "metadata": {
    "collapsed": true
   },
   "outputs": [
    {
     "data": {
      "text/plain": [
       "2015-01   -0.000205\n",
       "2015-02   -0.043915\n",
       "2015-03   -0.099951\n",
       "2015-04    0.253474\n",
       "2015-05   -0.133339\n",
       "2015-06   -0.199254\n",
       "2015-07   -0.239795\n",
       "2015-08    0.194498\n",
       "2015-09    0.329719\n",
       "2015-10    0.150415\n",
       "2015-11   -0.405813\n",
       "2015-12   -0.100447\n",
       "dtype: float64"
      ]
     },
     "execution_count": 3,
     "metadata": {},
     "output_type": "execute_result"
    }
   ],
   "source": [
    "monthly_means = s.groupby(pd.Grouper(freq = \"ME\")).mean()\n",
    "monthly_means.index = monthly_means.index.strftime('%Y-%m')\n",
    "monthly_means"
   ]
  },
  {
   "cell_type": "markdown",
   "metadata": {},
   "source": [
    "**36.** For each group of four consecutive calendar months in `s`, find the date on which the highest value occurred."
   ]
  },
  {
   "cell_type": "code",
   "execution_count": 49,
   "metadata": {
    "collapsed": true
   },
   "outputs": [
    {
     "name": "stdout",
     "output_type": "stream",
     "text": [
      "2015-03-11 00:00:00\n",
      "2015-03-11 00:00:00\n",
      "2015-03-11 00:00:00\n",
      "2015-04-20 00:00:00\n",
      "2015-08-09 00:00:00\n",
      "2015-09-14 00:00:00\n",
      "2015-10-28 00:00:00\n",
      "2015-10-28 00:00:00\n",
      "2015-10-28 00:00:00\n"
     ]
    }
   ],
   "source": [
    "mg = s.groupby(pd.Grouper(freq=\"ME\"))\n",
    "\n",
    "mg_l = list(mg)\n",
    "cons = [(mg_l[i], mg_l[i+1], mg_l[i+2], mg_l[i+3]) for i in range(len(mg) - 3)]\n",
    "for con in cons:\n",
    "    _concat = pd.concat([con[j][1] for j in range(4)])\n",
    "    print(_concat.index[_concat.argmax()])"
   ]
  },
  {
   "cell_type": "markdown",
   "metadata": {},
   "source": [
    "**37.** Create a DateTimeIndex consisting of the third Thursday in each month for the years 2015 and 2016."
   ]
  },
  {
   "cell_type": "code",
   "execution_count": 52,
   "metadata": {
    "collapsed": true
   },
   "outputs": [
    {
     "name": "stdout",
     "output_type": "stream",
     "text": [
      "DatetimeIndex(['2015-01-15', '2015-02-19', '2015-03-19', '2015-04-16',\n",
      "               '2015-05-21', '2015-06-18', '2015-07-16', '2015-08-20',\n",
      "               '2015-09-17', '2015-10-15', '2015-11-19', '2015-12-17',\n",
      "               '2016-01-21', '2016-02-18', '2016-03-17', '2016-04-21',\n",
      "               '2016-05-19', '2016-06-16', '2016-07-21', '2016-08-18',\n",
      "               '2016-09-15', '2016-10-20', '2016-11-17', '2016-12-15'],\n",
      "              dtype='datetime64[ns]', freq='WOM-3THU')\n"
     ]
    }
   ],
   "source": [
    "third_thursdays = pd.date_range(start=f\"2015-01-01\", end=f\"2017-01-01\", freq=\"WOM-3THU\", inclusive=\"left\")\n",
    "print(third_thursdays)"
   ]
  }
 ],
 "metadata": {
  "kernelspec": {
   "display_name": "Python 3",
   "language": "python",
   "name": "python3"
  },
  "language_info": {
   "codemirror_mode": {
    "name": "ipython",
    "version": 3
   },
   "file_extension": ".py",
   "mimetype": "text/x-python",
   "name": "python",
   "nbconvert_exporter": "python",
   "pygments_lexer": "ipython3",
   "version": "3.12.2"
  }
 },
 "nbformat": 4,
 "nbformat_minor": 1
}
